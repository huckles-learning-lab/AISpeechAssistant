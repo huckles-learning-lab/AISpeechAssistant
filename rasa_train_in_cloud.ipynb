{
  "nbformat": 4,
  "nbformat_minor": 0,
  "metadata": {
    "colab": {
      "provenance": [],
      "gpuType": "T4",
      "mount_file_id": "1EwR9eRFpVyqRK2ae2rKi20-Zhj8E-L47",
      "authorship_tag": "ABX9TyPxMRSopjZI8avbC2dtnhFq",
      "include_colab_link": true
    },
    "kernelspec": {
      "name": "python3",
      "display_name": "Python 3"
    },
    "language_info": {
      "name": "python"
    },
    "accelerator": "GPU"
  },
  "cells": [
    {
      "cell_type": "markdown",
      "metadata": {
        "id": "view-in-github",
        "colab_type": "text"
      },
      "source": [
        "<a href=\"https://colab.research.google.com/github/huckles-learning-lab/AISpeechAssistant/blob/main/rasa_train_in_cloud.ipynb\" target=\"_parent\"><img src=\"https://colab.research.google.com/assets/colab-badge.svg\" alt=\"Open In Colab\"/></a>"
      ]
    },
    {
      "cell_type": "markdown",
      "source": [
        "#Setup Rasa bot on Colab\n",
        "\n",
        "##First off, make sure the Colab is running a GPU instance."
      ],
      "metadata": {
        "id": "0aFYKJ-KMGHr"
      }
    },
    {
      "cell_type": "code",
      "execution_count": null,
      "metadata": {
        "colab": {
          "base_uri": "https://localhost:8080/"
        },
        "id": "My7pK9vW2Ys4",
        "outputId": "497ce3eb-20cc-41b5-dfaa-59e9dd12b16d"
      },
      "outputs": [
        {
          "output_type": "stream",
          "name": "stdout",
          "text": [
            "Drive already mounted at /content/drive; to attempt to forcibly remount, call drive.mount(\"/content/drive\", force_remount=True).\n"
          ]
        }
      ],
      "source": [
        "from google.colab import drive\n",
        "drive.mount('/content/drive')"
      ]
    },
    {
      "cell_type": "markdown",
      "source": [
        "#Install Docker"
      ],
      "metadata": {
        "id": "eQ_W3iCLin48"
      }
    },
    {
      "cell_type": "code",
      "source": [
        "#First let's update all the packages to the latest ones with the following command\n",
        "!sudo apt update -qq\n",
        "\n",
        "#Now we want to install some prerequisite packages which will let us use HTTPS over apt\n",
        "!sudo apt install apt-transport-https ca-certificates curl software-properties-common -qq\n",
        "\n",
        "#After that we will add the GPG key for the official Docker repository to the system\n",
        "!curl -fsSL https://download.docker.com/linux/ubuntu/gpg | sudo apt-key add -\n",
        "\n",
        "#We will add the Docker repository to our APT sources\n",
        "!sudo add-apt-repository \"deb [arch=amd64] https://download.docker.com/linux/ubuntu bionic stable\"\n",
        "\n",
        "#Next let's update the package database with our newly added Docker package repo\n",
        "!sudo apt update -qq\n",
        "\n",
        "#Finally lets install docker with the below command\n",
        "!sudo apt install docker-ce\n",
        "\n",
        "#Lets check that docker is running\n",
        "!docker\n",
        "\n",
        "#Activate docker-deamon\n",
        "!sudo service docker start"
      ],
      "metadata": {
        "id": "4zsto8glFXNS"
      },
      "execution_count": null,
      "outputs": []
    },
    {
      "cell_type": "markdown",
      "source": [
        "##Install Rasa, Haystack "
      ],
      "metadata": {
        "id": "Bt80Tv4aKwyt"
      }
    },
    {
      "cell_type": "code",
      "source": [
        "!python3 --version\n",
        "!pip3 --version"
      ],
      "metadata": {
        "colab": {
          "base_uri": "https://localhost:8080/"
        },
        "id": "Rl4Jq6P1Af1H",
        "outputId": "3f844475-6683-45fa-91b7-07411590e391"
      },
      "execution_count": null,
      "outputs": [
        {
          "output_type": "stream",
          "name": "stdout",
          "text": [
            "Python 3.10.12\n",
            "pip 23.1.2 from /usr/local/lib/python3.10/dist-packages/pip (python 3.10)\n"
          ]
        }
      ]
    },
    {
      "cell_type": "code",
      "source": [
        "!sudo apt update\n",
        "!sudo apt install python3-dev python3-pip"
      ],
      "metadata": {
        "id": "uHxA-22PAjbR"
      },
      "execution_count": null,
      "outputs": []
    },
    {
      "cell_type": "code",
      "source": [
        "!pip3 install -U pip"
      ],
      "metadata": {
        "id": "Q4qqmbbxB1bZ"
      },
      "execution_count": null,
      "outputs": []
    },
    {
      "cell_type": "code",
      "source": [
        "!pip3 install rasa[full]"
      ],
      "metadata": {
        "id": "x5pQavzqBs1P"
      },
      "execution_count": null,
      "outputs": []
    },
    {
      "cell_type": "code",
      "source": [
        "!pip3 install rasa[spacy]\n",
        "!python3 -m spacy download en_core_web_md"
      ],
      "metadata": {
        "id": "Vn3JGXlnCkwa"
      },
      "execution_count": null,
      "outputs": []
    },
    {
      "cell_type": "code",
      "source": [
        "!pip3 install git+https://github.com/mit-nlp/MITIE.git\n",
        "!pip3 install rasa[mitie]"
      ],
      "metadata": {
        "id": "C5EjSfO8C2Hs"
      },
      "execution_count": null,
      "outputs": []
    },
    {
      "cell_type": "code",
      "source": [
        "!pip install --upgrade pip\n",
        "!pip install 'farm-haystack[all]'"
      ],
      "metadata": {
        "id": "jWokDHOsC-KX"
      },
      "execution_count": null,
      "outputs": []
    },
    {
      "cell_type": "code",
      "source": [
        "!wget https://artifacts.elastic.co/downloads/elasticsearch/elasticsearch-8.8.1-linux-x86_64.tar.gz\n",
        "!wget https://artifacts.elastic.co/downloads/elasticsearch/elasticsearch-8.8.1-linux-x86_64.tar.gz.sha512\n",
        "!shasum -a 512 -c elasticsearch-8.8.1-linux-x86_64.tar.gz.sha512 \n",
        "!tar -xzf elasticsearch-8.8.1-linux-x86_64.tar.gz\n",
        "!cd elasticsearch-8.8.1/ \n",
        "!./bin/elasticsearch"
      ],
      "metadata": {
        "id": "ijSEEYVqEHfG",
        "colab": {
          "base_uri": "https://localhost:8080/"
        },
        "outputId": "7e81d07f-75f6-4396-c133-25ae88f02dff"
      },
      "execution_count": null,
      "outputs": [
        {
          "output_type": "stream",
          "name": "stdout",
          "text": [
            "--2023-06-10 19:37:23--  https://artifacts.elastic.co/downloads/elasticsearch/elasticsearch-8.8.1-linux-x86_64.tar.gz\n",
            "Resolving artifacts.elastic.co (artifacts.elastic.co)... 34.120.127.130, 2600:1901:0:1d7::\n",
            "Connecting to artifacts.elastic.co (artifacts.elastic.co)|34.120.127.130|:443... connected.\n",
            "HTTP request sent, awaiting response... 200 OK\n",
            "Length: 596756367 (569M) [application/x-gzip]\n",
            "Saving to: ‘elasticsearch-8.8.1-linux-x86_64.tar.gz’\n",
            "\n",
            "nux-x86_64.tar.gz    30%[=====>              ] 171.61M  27.4MB/s    eta 17s    ^C\n",
            "--2023-06-10 19:37:30--  https://artifacts.elastic.co/downloads/elasticsearch/elasticsearch-8.8.1-linux-x86_64.tar.gz.sha512\n",
            "Resolving artifacts.elastic.co (artifacts.elastic.co)... 34.120.127.130, 2600:1901:0:1d7::\n",
            "Connecting to artifacts.elastic.co (artifacts.elastic.co)|34.120.127.130|:443... connected.\n",
            "HTTP request sent, awaiting response... 200 OK\n",
            "Length: 170 [binary/octet-stream]\n",
            "Saving to: ‘elasticsearch-8.8.1-linux-x86_64.tar.gz.sha512’\n",
            "\n",
            "elasticsearch-8.8.1 100%[===================>]     170  --.-KB/s    in 0s      \n",
            "\n",
            "2023-06-10 19:37:31 (41.9 MB/s) - ‘elasticsearch-8.8.1-linux-x86_64.tar.gz.sha512’ saved [170/170]\n",
            "\n",
            "elasticsearch-8.8.1-linux-x86_64.tar.gz: FAILED\n",
            "shasum: WARNING: 1 computed checksum did NOT match\n",
            "^C\n",
            "/bin/bash: ./bin/elasticsearch: No such file or directory\n"
          ]
        }
      ]
    },
    {
      "cell_type": "code",
      "source": [
        "!pip install --upgrade packaging\n",
        "!pip install --upgrade rasa"
      ],
      "metadata": {
        "id": "IjWh4o2tGDCR"
      },
      "execution_count": null,
      "outputs": []
    },
    {
      "cell_type": "markdown",
      "source": [
        "###Train Rasa \n",
        "Navigiere in den gDrive Projektordner # gib den Pfad zum Bot an /content/drive/My Drive/Github - huckles-learning-lab/\"Pfad zum Bot\""
      ],
      "metadata": {
        "id": "jRlWPb1rKBIy"
      }
    },
    {
      "cell_type": "code",
      "source": [
        "%cd /content/drive/My Drive/Github - huckles-learning-lab/\"Pfad zum Bot\""
      ],
      "metadata": {
        "id": "Z-psQDj8GxsN"
      },
      "execution_count": null,
      "outputs": []
    },
    {
      "cell_type": "code",
      "source": [
        "!rasa data validate"
      ],
      "metadata": {
        "id": "U_fAsTdKgAOy"
      },
      "execution_count": null,
      "outputs": []
    },
    {
      "cell_type": "code",
      "source": [
        "!rasa train"
      ],
      "metadata": {
        "id": "Rny28irwEVkN"
      },
      "execution_count": null,
      "outputs": []
    },
    {
      "cell_type": "markdown",
      "source": [
        "###Docker compose yaml  \n",
        "Navigiere in das gDrive Arbeitsverzeichnis des neuen Rasa-Bots\n",
        "und erstelle einen neuen Ordner ...lab/\"Pfad zum Bot\"/rasa-docker mit der Datei docker-compose.yaml\n"
      ],
      "metadata": {
        "id": "j4bWzu_9JsTN"
      }
    },
    {
      "cell_type": "code",
      "source": [
        "%cd /content/drive/My Drive/Github - huckles-learning-lab/\"Pfad zum Bot\""
      ],
      "metadata": {
        "id": "XzwEskujyEJt"
      },
      "execution_count": null,
      "outputs": []
    },
    {
      "cell_type": "code",
      "source": [
        "%mkdir rasa-docker\n",
        "\n",
        "%cd rasa-docker # welchselt zum erstellen der datei in den neuen ordner\n",
        "\n",
        "# ERSTELLT DIE docker-compose.yaml \n",
        "# Passe die datei deinem Projekt an\n",
        "%%writefile docker-compose.yaml \n",
        "version: '3.8'\n",
        "services:\n",
        "  rasa:\n",
        "    image: rasa/rasa:3.0.0-full\n",
        "    container_name: \"name BotName\"\n",
        "    ports:\n",
        "      - 5005:5005\n",
        "    volumes:\n",
        "      - ./\"name of folder within the rasa.zip\":/app\n",
        "    command: \n",
        "      - \"run\"\n",
        "      - \"--enable-api\""
      ],
      "metadata": {
        "id": "B5S-al4v23wn"
      },
      "execution_count": null,
      "outputs": []
    },
    {
      "cell_type": "code",
      "source": [
        "%cd .. # welchselt zurück in das Arbeitsverzeichnis"
      ],
      "metadata": {
        "id": "HbJwLjUpRDMT"
      },
      "execution_count": null,
      "outputs": []
    },
    {
      "cell_type": "code",
      "source": [],
      "metadata": {
        "id": "31R-hJXUytfp"
      },
      "execution_count": null,
      "outputs": []
    },
    {
      "cell_type": "markdown",
      "source": [
        "## Navigieren  durch Ordner data, \n",
        "und wähle die zu bearbeitende Datei aus:\n"
      ],
      "metadata": {
        "id": "J_GHIdifyvZ8"
      }
    },
    {
      "cell_type": "code",
      "source": [
        "!pw"
      ],
      "metadata": {
        "id": "2adugVflzTzk"
      },
      "execution_count": null,
      "outputs": []
    },
    {
      "cell_type": "code",
      "source": [
        "%cd /path/to/data"
      ],
      "metadata": {
        "id": "nPp1kb99zNvP"
      },
      "execution_count": null,
      "outputs": []
    },
    {
      "cell_type": "markdown",
      "source": [
        "##Komprimiere  Projektdaten \n",
        "des Bots zu einem .zip-file rasa-docker.zip"
      ],
      "metadata": {
        "id": "g2PenqwhRNR9"
      }
    },
    {
      "cell_type": "code",
      "source": [
        "!zip -r ./rasa-docker ./* "
      ],
      "metadata": {
        "id": "4u5cNL_62ZEP"
      },
      "execution_count": null,
      "outputs": []
    },
    {
      "cell_type": "markdown",
      "source": [
        "##Now download the file \"rasa-docker\" and start bot:\n"
      ],
      "metadata": {
        "id": "oxOS4x7fNspG"
      }
    },
    {
      "cell_type": "markdown",
      "source": [
        "....\n",
        "Anleitung für \n",
        "Download \n",
        "erstellen...."
      ],
      "metadata": {
        "id": "CmaUmnG_05Pv"
      }
    },
    {
      "cell_type": "code",
      "source": [
        "cd /rasa-docker\n",
        "\n",
        "docker-compose up"
      ],
      "metadata": {
        "id": "Msgw2gzoR1iL"
      },
      "execution_count": null,
      "outputs": []
    }
  ]
}